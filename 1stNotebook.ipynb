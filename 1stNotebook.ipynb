{
 "cells": [
  {
   "cell_type": "markdown",
   "metadata": {},
   "source": [
    "# Python Crash Course"
   ]
  },
  {
   "cell_type": "markdown",
   "metadata": {},
   "source": [
    "### Mathematical Operators"
   ]
  },
  {
   "cell_type": "code",
   "execution_count": null,
   "metadata": {},
   "outputs": [],
   "source": [
    "a = 4\n",
    "b = 3\n",
    "a*b"
   ]
  },
  {
   "cell_type": "code",
   "execution_count": null,
   "metadata": {},
   "outputs": [],
   "source": [
    "c=[1,2,3]\n",
    "2*c"
   ]
  },
  {
   "cell_type": "code",
   "execution_count": null,
   "metadata": {},
   "outputs": [],
   "source": [
    "import numpy\n",
    "c=numpy.array([1,2,3])\n",
    "2*c"
   ]
  },
  {
   "cell_type": "code",
   "execution_count": null,
   "metadata": {},
   "outputs": [],
   "source": [
    "numpy.absolute(-10)"
   ]
  },
  {
   "cell_type": "code",
   "execution_count": null,
   "metadata": {},
   "outputs": [],
   "source": [
    "z=numpy.zeros((2,3))"
   ]
  },
  {
   "cell_type": "code",
   "execution_count": null,
   "metadata": {},
   "outputs": [],
   "source": [
    "z[0,-2]=10"
   ]
  },
  {
   "cell_type": "code",
   "execution_count": null,
   "metadata": {},
   "outputs": [],
   "source": [
    "z[0,-1] = 1"
   ]
  },
  {
   "cell_type": "code",
   "execution_count": null,
   "metadata": {},
   "outputs": [],
   "source": [
    "numpy.where(z==1)"
   ]
  },
  {
   "cell_type": "code",
   "execution_count": null,
   "metadata": {},
   "outputs": [],
   "source": [
    "z[numpy.where(z==1)]=10"
   ]
  },
  {
   "cell_type": "code",
   "execution_count": null,
   "metadata": {},
   "outputs": [],
   "source": [
    "z[numpy.where(z==10)]=numpy.nan"
   ]
  },
  {
   "cell_type": "code",
   "execution_count": null,
   "metadata": {},
   "outputs": [],
   "source": [
    "numpy.isnan(z)"
   ]
  },
  {
   "cell_type": "code",
   "execution_count": null,
   "metadata": {},
   "outputs": [],
   "source": [
    "numpy.shape(z)"
   ]
  },
  {
   "cell_type": "code",
   "execution_count": null,
   "metadata": {},
   "outputs": [],
   "source": [
    "z[0,:]"
   ]
  },
  {
   "cell_type": "code",
   "execution_count": null,
   "metadata": {},
   "outputs": [],
   "source": [
    "a=numpy.arange(0,11,0.5)\n",
    "a"
   ]
  },
  {
   "cell_type": "markdown",
   "metadata": {},
   "source": [
    "### Be very careful!!"
   ]
  },
  {
   "cell_type": "code",
   "execution_count": null,
   "metadata": {},
   "outputs": [],
   "source": [
    "c = numpy.array([0,0,0])\n",
    "x = c.copy()\n",
    "x[0] = 10\n",
    "c"
   ]
  },
  {
   "cell_type": "code",
   "execution_count": null,
   "metadata": {},
   "outputs": [],
   "source": [
    "x = c.copy()\n",
    "x[0]=15\n",
    "c"
   ]
  },
  {
   "cell_type": "code",
   "execution_count": null,
   "metadata": {},
   "outputs": [],
   "source": [
    "import numpy as np\n",
    "np.array"
   ]
  },
  {
   "cell_type": "markdown",
   "metadata": {},
   "source": [
    "### More Mathematical Functions"
   ]
  },
  {
   "cell_type": "code",
   "execution_count": null,
   "metadata": {},
   "outputs": [],
   "source": [
    "a"
   ]
  },
  {
   "cell_type": "code",
   "execution_count": null,
   "metadata": {},
   "outputs": [],
   "source": [
    "print(a)"
   ]
  },
  {
   "cell_type": "code",
   "execution_count": null,
   "metadata": {},
   "outputs": [],
   "source": [
    "max(a)"
   ]
  },
  {
   "cell_type": "code",
   "execution_count": null,
   "metadata": {},
   "outputs": [],
   "source": [
    "np.mean(a)"
   ]
  },
  {
   "cell_type": "code",
   "execution_count": null,
   "metadata": {},
   "outputs": [],
   "source": [
    "np.std(a)"
   ]
  },
  {
   "cell_type": "code",
   "execution_count": null,
   "metadata": {},
   "outputs": [],
   "source": [
    "a[0]=np.nan"
   ]
  },
  {
   "cell_type": "code",
   "execution_count": null,
   "metadata": {},
   "outputs": [],
   "source": [
    "np.mean(a)"
   ]
  },
  {
   "cell_type": "code",
   "execution_count": null,
   "metadata": {},
   "outputs": [],
   "source": [
    "np.nanmean(a)"
   ]
  },
  {
   "cell_type": "code",
   "execution_count": null,
   "metadata": {},
   "outputs": [],
   "source": [
    "import math as mt\n",
    "a=4\n",
    "d = mt.sqrt(a)\n",
    "d"
   ]
  },
  {
   "cell_type": "code",
   "execution_count": null,
   "metadata": {},
   "outputs": [],
   "source": [
    "mt.sin(mt.radians(90))"
   ]
  },
  {
   "cell_type": "markdown",
   "metadata": {},
   "source": [
    "### Dealing with NetCDFs"
   ]
  },
  {
   "cell_type": "code",
   "execution_count": null,
   "metadata": {},
   "outputs": [],
   "source": [
    "import xarray as xr\n",
    "a=20\n",
    "path       = '/work/uo1075/u241292/data/ERAI/atmo/'\n",
    "file       = 'monavg_all_%dN_names.nc' %a\n",
    "data       = xr.open_dataset('%s%s' %(path,file))\n",
    "data.info()"
   ]
  },
  {
   "cell_type": "code",
   "execution_count": null,
   "metadata": {},
   "outputs": [],
   "source": [
    "myvar = data['2t']\n",
    "lat   = data['lat']\n",
    "lon   = data['lon']\n",
    "time  = data['time']\n"
   ]
  },
  {
   "cell_type": "code",
   "execution_count": null,
   "metadata": {},
   "outputs": [],
   "source": [
    "np.shape(myvar.values)"
   ]
  },
  {
   "cell_type": "markdown",
   "metadata": {},
   "source": [
    "### Plot Time Series"
   ]
  },
  {
   "cell_type": "code",
   "execution_count": 99,
   "metadata": {},
   "outputs": [],
   "source": [
    "import numpy as np\n",
    "import matplotlib.pyplot as plt"
   ]
  },
  {
   "cell_type": "code",
   "execution_count": 102,
   "metadata": {},
   "outputs": [
    {
     "data": {
      "image/png": "[encoded data removed]",
      "text/plain": [
       "<matplotlib.figure.Figure at 0x2af89df4a9e8>"
      ]
     },
     "metadata": {},
     "output_type": "display_data"
    }
   ],
   "source": [
    "x=np.arange(0,10,0.1)\n",
    "y=np.sin(x)\n",
    "plt.plot(y)\n",
    "plt.show()"
   ]
  },
  {
   "cell_type": "code",
   "execution_count": null,
   "metadata": {},
   "outputs": [],
   "source": [
    "import numpy as np\n",
    "import matplotlib.pyplot as plt\n",
    "\n",
    "fig=plt.figure(figsize=(5,4))\n",
    "ts=np.arange(0,100,1)\n",
    "plt.axhline(60,color='r',ls='--',label='yes')\n",
    "plt.axvline(60,color='g',lw=3,label='no')\n",
    "plt.plot(ts,label='maybe')\n",
    "plt.legend(loc='upper right')\n",
    "plt.xlabel('xlabel')\n",
    "plt.ylabel('ylabel')\n",
    "plt.title('title')\n",
    "fig.savefig('/home/zmaw/u241292/test.eps')\n",
    "plt.show()"
   ]
  },
  {
   "cell_type": "code",
   "execution_count": null,
   "metadata": {},
   "outputs": [],
   "source": [
    "plt.bar(ts,ts*1.5,facecolor='r',alpha=0.2)\n",
    "plt.bar(ts+0.3,ts*1.1,facecolor='b',alpha=0.2)\n",
    "plt.bar(ts+0.1,-ts*0.5,facecolor='c',alpha=0.2)\n",
    "plt.xlim(0,15)\n",
    "plt.ylim(-10,20)\n",
    "plt.show()"
   ]
  },
  {
   "cell_type": "markdown",
   "metadata": {},
   "source": [
    "# More plotting"
   ]
  },
  {
   "cell_type": "markdown",
   "metadata": {},
   "source": [
    "https://matplotlib.org/2.1.1/gallery/index.html"
   ]
  },
  {
   "cell_type": "code",
   "execution_count": null,
   "metadata": {},
   "outputs": [],
   "source": [
    "plt.barh(ts,ts*1.5,facecolor='r',alpha=0.2)\n",
    "plt.barh(ts+0.3,ts*1.1,facecolor='b',alpha=0.2)\n",
    "plt.barh(ts+0.1,-ts*0.5,facecolor='c',alpha=0.2)\n",
    "plt.ylim(0,15)\n",
    "plt.xlim(-10,20)\n",
    "plt.show()"
   ]
  },
  {
   "cell_type": "code",
   "execution_count": null,
   "metadata": {},
   "outputs": [],
   "source": [
    "mydata=myvar.values\n",
    "np.shape(mydata)"
   ]
  },
  {
   "cell_type": "code",
   "execution_count": null,
   "metadata": {},
   "outputs": [],
   "source": [
    "plt.plot(mydata[:,90,0])\n",
    "plt.show()"
   ]
  },
  {
   "cell_type": "code",
   "execution_count": null,
   "metadata": {},
   "outputs": [],
   "source": [
    "fig = plt.figure(figsize=(6,5))\n",
    "\n",
    "fig.add_subplot(2,2,1)\n",
    "plt.plot(mydata[:,90,0],'b')\n",
    "plt.plot(mydata[:,90,100],'r')\n",
    "\n",
    "fig.add_subplot(2,2,2)\n",
    "plt.plot(mydata[:,90,10],'g')\n",
    "plt.plot(mydata[:,90,100],'r')\n",
    "\n",
    "fig.add_subplot(2,2,3)\n",
    "plt.plot(mydata[:,90,10],'g')\n",
    "plt.plot(mydata[:,90,100],'r')\n",
    "\n",
    "fig.add_subplot(2,2,4)\n",
    "plt.plot(mydata[:,90,0],'b')\n",
    "plt.plot(mydata[:,90,100],'r')\n",
    "\n",
    "plt.tight_layout()\n",
    "\n",
    "fig.savefig('/home/zmaw/u241292/fig.png', dpi=300)\n",
    "fig.savefig('/home/zmaw/u241292/fig.pdf')\n",
    "\n",
    "plt.show()"
   ]
  },
  {
   "cell_type": "code",
   "execution_count": null,
   "metadata": {},
   "outputs": [],
   "source": [
    "plt.plot(mydata[:,90,0],mydata[:,90,100],'or')\n",
    "plt.show()"
   ]
  },
  {
   "cell_type": "code",
   "execution_count": null,
   "metadata": {},
   "outputs": [],
   "source": [
    "from scipy import stats\n"
   ]
  },
  {
   "cell_type": "code",
   "execution_count": null,
   "metadata": {},
   "outputs": [],
   "source": [
    "x=mydata[:,90,0]\n",
    "y=mydata[:,90,100]\n",
    "slope, intercept, r_value, a, a = stats.linregress(x, y)"
   ]
  },
  {
   "cell_type": "code",
   "execution_count": null,
   "metadata": {},
   "outputs": [],
   "source": [
    "plt.plot(x, y, 'o', label='original data')\n",
    "plt.plot(x, intercept + slope*x, 'r', label='fitted line')\n",
    "plt.legend(loc='upper left', frameon=False)\n",
    "plt.text(300,290,'corr = %.2f' %r_value)\n",
    "plt.text(300,298,r'$y = %.2fx +%.2f$' %(slope, intercept), color='r', fontsize=14)\n",
    "plt.text(320,310,'text outside the plot')\n",
    "plt.show()"
   ]
  },
  {
   "cell_type": "markdown",
   "metadata": {},
   "source": [
    "### Make your own functions"
   ]
  },
  {
   "cell_type": "code",
   "execution_count": null,
   "metadata": {},
   "outputs": [],
   "source": [
    "bigtrend=mydata[:,90,0]+np.arange(0,len(mydata[:,90,0]),1)\n",
    "\n",
    "plt.plot(bigtrend)\n",
    "plt.show()"
   ]
  },
  {
   "cell_type": "code",
   "execution_count": null,
   "metadata": {},
   "outputs": [],
   "source": [
    "def detrend(y):\n",
    "    from scipy import stats\n",
    "    slope, intercept, _, _, _ = stats.linregress(np.arange(0,len(y)),y)\n",
    "    fit = intercept + slope*np.arange(0,len(y))\n",
    "    ydt = y-fit+np.mean(y)\n",
    "    return ydt\n",
    "\n",
    "notrend = detrend(bigtrend)\n",
    "plt.plot(bigtrend)\n",
    "plt.plot(notrend)\n",
    "plt.show()\n"
   ]
  },
  {
   "cell_type": "code",
   "execution_count": null,
   "metadata": {},
   "outputs": [],
   "source": [
    "lat[np.where( (lat>45) & (lat<60) )].values"
   ]
  },
  {
   "cell_type": "code",
   "execution_count": null,
   "metadata": {},
   "outputs": [],
   "source": [
    "eulat=lat[(lat>45) & (lat<60)]\n",
    "eulon=lon[(lon>=0) & (lon<50)]\n",
    "eulon"
   ]
  },
  {
   "cell_type": "code",
   "execution_count": null,
   "metadata": {},
   "outputs": [],
   "source": [
    "eudata=mydata[:,np.where(lat==eulat)[0],:]\n",
    "eudata=eudata[:,:,np.where(lon==eulon)[0]]\n",
    "np.shape(eudata)"
   ]
  },
  {
   "cell_type": "markdown",
   "metadata": {},
   "source": [
    "### Loops"
   ]
  },
  {
   "cell_type": "code",
   "execution_count": null,
   "metadata": {},
   "outputs": [],
   "source": [
    "eu_dt = np.zeros(np.shape(eudata)); eu_dt.fill(np.nan)\n",
    "for y in range(len(eulat)):\n",
    "    print(eulat.values[y])\n",
    "    for x in range(len(eulon)):\n",
    "        eu_dt[:,y,x] = detrend(eudata[:,y,x])\n",
    "        "
   ]
  },
  {
   "cell_type": "code",
   "execution_count": null,
   "metadata": {},
   "outputs": [],
   "source": [
    "zonalmean   = np.mean(eudata,axis=1) # this is the second axis, the first is axis=0 !!!!!\n",
    "zonalmean_dt= np.mean(eu_dt ,axis=1)\n",
    "\n",
    "f = plt.figure(figsize=(10,3))\n",
    "\n",
    "f.add_subplot(1,2,1)\n",
    "plt.contourf(eulon,time[0:24],zonalmean[0:24,:]-273.5)\n",
    "plt.xlabel('lon')\n",
    "plt.colorbar()\n",
    "\n",
    "f.add_subplot(1,2,2)\n",
    "plt.contourf(eulon,time[0:24],zonalmean_dt[0:24,:]-273.5)\n",
    "plt.xlabel('lon')\n",
    "plt.colorbar()\n",
    "plt.clim(-35,5)\n",
    "\n",
    "plt.show()"
   ]
  },
  {
   "cell_type": "code",
   "execution_count": null,
   "metadata": {},
   "outputs": [],
   "source": [
    "f = plt.figure(figsize=(10,3))\n",
    "\n",
    "f.add_subplot(1,3,1)\n",
    "p = plt.contour(eulon,time[0:24],zonalmean[0:24,:]-273.5,cmap='RdYlBu_r')\n",
    "plt.clabel(p, p.levels)\n",
    "plt.xlabel('lon')\n",
    "\n",
    "f.add_subplot(1,3,2)\n",
    "plt.contourf(eulon,time[0:24],zonalmean[0:24,:]-273.5,cmap='Spectral',extend='min')\n",
    "plt.xlabel('lon')\n",
    "plt.colorbar()\n",
    "\n",
    "f.add_subplot(1,3,3)\n",
    "plt.pcolor(eulon,time[0:24],zonalmean[0:24,:]-273.5,cmap='Spectral')\n",
    "plt.xlabel('lon')\n",
    "plt.colorbar()\n",
    "\n",
    "plt.tight_layout()\n",
    "plt.show()"
   ]
  },
  {
   "cell_type": "markdown",
   "metadata": {},
   "source": [
    "### Plotting Maps"
   ]
  },
  {
   "cell_type": "code",
   "execution_count": null,
   "metadata": {},
   "outputs": [],
   "source": [
    "import cartopy.crs as ccrs\n",
    "\n",
    "f=plt.figure(figsize=(8,5))\n",
    "\n",
    "# Projections\n",
    "# https://scitools.org.uk/cartopy/docs/latest/crs/projections.html\n",
    "\n",
    "proj=ccrs.PlateCarree()\n",
    "ax1 = plt.subplot(221, projection=proj)\n",
    "ax1.coastlines(resolution='110m')\n",
    "p = ax1.contourf(lon, lat, mydata[0,:,:]-273.5,\n",
    "               extend='both',\n",
    "               cmap = plt.get_cmap('RdYlBu_r'),\n",
    "               transform=ccrs.PlateCarree())\n",
    "cbar = plt.colorbar(p, orientation='horizontal', shrink=0.8)\n",
    "cbar.set_label('2-meter T')\n",
    "ax1.set_title('PlateCarree')\n",
    "ax1.set_global()\n",
    "\n",
    "proj=ccrs.Orthographic(central_longitude=0.0, central_latitude=50, globe=None)\n",
    "ax2 = plt.subplot(222, projection=proj)\n",
    "ax2.coastlines(resolution='110m', linewidth=0.5)\n",
    "p = ax2.contourf(lon, lat, mydata[0,:,:]-273.5,\n",
    "               extend='both',\n",
    "               cmap = plt.get_cmap('RdYlBu_r'),\n",
    "               transform=ccrs.PlateCarree())\n",
    "cbar = plt.colorbar(p, orientation='vertical', shrink=0.8)\n",
    "cbar.set_label('2-meter T')\n",
    "ax2.set_title('Orthographic')\n",
    "ax2.set_global()\n",
    "\n",
    "proj=ccrs.NorthPolarStereo(central_longitude=0.0, globe=None)\n",
    "ax3 = plt.subplot(223, projection=proj)\n",
    "ax3.coastlines(resolution='110m', linewidth=0.8)\n",
    "p = ax3.contourf(lon, lat, mydata[0,:,:]-273.5,\n",
    "               extend='both',\n",
    "               cmap = plt.get_cmap('RdYlBu_r'),\n",
    "               transform=ccrs.PlateCarree())\n",
    "cbar = plt.colorbar(p, orientation='vertical', shrink=0.8)\n",
    "cbar.set_label('2-meter T')\n",
    "ax3.set_title('Stereographic')\n",
    "ax3.set_extent([-180, 180, 20, 90], ccrs.PlateCarree())\n",
    "# Compute a circle in axes coordinates, which we can use as a boundary\n",
    "# for the map. We can pan/zoom as much as we like - the boundary will be\n",
    "# permanently circular.\n",
    "import matplotlib.path as mpath\n",
    "theta = np.linspace(0, 2*np.pi, 100)\n",
    "center, radius = [0.5, 0.5], 0.5\n",
    "verts = np.vstack([np.sin(theta), np.cos(theta)]).T\n",
    "circle = mpath.Path(verts * radius + center)\n",
    "ax3.set_boundary(circle, transform=ax3.transAxes)\n",
    "\n",
    "proj=ccrs.LambertConformal(central_longitude=0, central_latitude=45.0, \n",
    "                            false_easting=0.0, false_northing=0.0, secant_latitudes=None, standard_parallels=None, \n",
    "                            globe=None, cutoff=-30)\n",
    "ax4 = plt.subplot(224, projection=proj)\n",
    "ax4.coastlines(resolution='110m', linewidth=0.5)\n",
    "p = ax4.contourf(lon, lat, mydata[0,:,:]-273.5,\n",
    "               extend='both',\n",
    "               cmap = plt.get_cmap('RdYlBu_r'),\n",
    "               transform=ccrs.PlateCarree())\n",
    "cbar = plt.colorbar(p, orientation='vertical', shrink=0.9)\n",
    "cbar.set_label('2-meter T')\n",
    "ax4.set_title('Lambert')\n",
    "ax4.set_extent([-20, 60, 30, 80], ccrs.PlateCarree())\n",
    "\n",
    "\n",
    "plt.tight_layout()\n",
    "plt.show()"
   ]
  },
  {
   "cell_type": "code",
   "execution_count": null,
   "metadata": {},
   "outputs": [],
   "source": [
    "import sys\n",
    "sys.path.append('/home/zmaw/u241292/scripts/python/polarplots')\n",
    "import polarplots as pp\n",
    "# https://github.com/davidmnielsen/polarplots\n"
   ]
  },
  {
   "cell_type": "code",
   "execution_count": null,
   "metadata": {},
   "outputs": [],
   "source": [
    "f=pp.polaranom(lat,lon,mydata[0,:,:]-273.5,lat0=40)"
   ]
  },
  {
   "cell_type": "code",
   "execution_count": null,
   "metadata": {},
   "outputs": [],
   "source": [
    "f=pp.polaranom(lat,lon,mydata[0,:,:]-273.5,lat0=45,\n",
    "              show0=1,contours=0, cmap='Spectral_r',\n",
    "              vmin=-55,vmax=15,inc=5,\n",
    "              ltitle='T2m',rtitle='01-01-1979',\n",
    "              clabel='°C',shrink=0.5)"
   ]
  },
  {
   "cell_type": "markdown",
   "metadata": {},
   "source": [
    "### Load csv file "
   ]
  },
  {
   "cell_type": "code",
   "execution_count": null,
   "metadata": {},
   "outputs": [],
   "source": [
    "import pandas as pd\n",
    "data_r = pd.read_csv('/work/uo1075/u241292/data/COAST/Grig_Razu/razumov.csv')\n",
    "razu=data_r.values[:,1:3]\n",
    "years=data_r.values[:,0]\n"
   ]
  },
  {
   "cell_type": "markdown",
   "metadata": {},
   "source": [
    "### Save NetCDF"
   ]
  },
  {
   "cell_type": "code",
   "execution_count": null,
   "metadata": {},
   "outputs": [],
   "source": [
    "newds.attrs = {'Description': '*Detrended* easonal Sea Ice Index North of 65N (SHI) from detrended ERA-Interim.'}\n",
    "newds['time'].attrs = {'standard_name':'time','long_name':'time','units': 'years','axis': 'T'}\n",
    "newds['seas'].attrs = {'standard_name':'season','shortname': 'season','units': '-', 'axis': 'L'}\n",
    "newds['ci'].attrs = {'standard_name':'ci','shortname': 'ci','units': 'sea-ice fraction anomaly'}\n",
    "newds['slope'].attrs = {'standard_name':'slope','shortname': 'slope','units': 'sea-ice fraction anomaly per year'}\n",
    "newds.to_netcdf('/work/uo1075/u241292/data/ERAI/ci_beaufort-laptev_seasonal_dt.nc')"
   ]
  }
 ],
 "metadata": {
  "kernelspec": {
   "display_name": "Python 3 (using the module python/3.5.2)",
   "language": "python",
   "name": "python_3.5.2"
  },
  "language_info": {
   "codemirror_mode": {
    "name": "ipython",
    "version": 3
   },
   "file_extension": ".py",
   "mimetype": "text/x-python",
   "name": "python",
   "nbconvert_exporter": "python",
   "pygments_lexer": "ipython3",
   "version": "3.5.2"
  }
 },
 "nbformat": 4,
 "nbformat_minor": 2
}
